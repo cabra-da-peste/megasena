# Versão 0.2
from random import randint

#Validação input numeros
while True:
    try:
        n_numeros = int(input("Informe quantos numeros: "))
        if n_numeros < 6 or n_numeros > 15:
             raise ValueError()
        break
    except ValueError:
        print("Você deve inserir um valor inteiro entre 6 e 15")

#Validação input quantidade de jogos
while True:
    try:
        n_jogos = int(input("Informe a quantidade de jogos "))
        if n_jogos < 1 or n_jogos > 10:
            raise ValueError()
        break
    except ValueError:
        print("Você deve inserir um valor inteiro entre 1 e 10.")

#Definição função megasena
def megasena(n_numeros, n_jogos):
    for x in range(n_jogos):
        print("--------------------------------------")
        print("jogo", x + 1)
        jogo = []
        while len(jogo) != n_numeros: #enquanto o tamanho da lista não for igual a quantidade de números informados repetir a operação
            r = randint(1,60) #r recebe um número aleatório entre 1 e 60
            if r not in jogo: #Se r não existir na lista acrescentá-lo
              jogo.append(r)


        print(sorted(jogo)) #imprimir número ordenado

#chama a função megasena passando a quantidade de números e quantidade de jogos
megasena(n_numeros, n_jogos)