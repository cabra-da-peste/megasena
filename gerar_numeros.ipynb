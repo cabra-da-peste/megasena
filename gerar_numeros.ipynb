# Versão 0.2
  from random import randint
  def megasena():
    n_numeros = int(input("Informe quantos numeros: "))
    n_jogos = int(input("Informe quantos jogos: "))
    
    for x in range(n_jogos):
      print("--------------------------------------")
      print("jogo", x + 1)
      for x in range(n_numeros):
        print(randint(0,60))  
     
megasena()
